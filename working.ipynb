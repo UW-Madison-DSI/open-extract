{
 "cells": [
  {
   "cell_type": "markdown",
   "metadata": {},
   "source": [
    "Target extract fields\n",
    "\n",
    "- Article title\n",
    "- Authors\n",
    "- Publication date\n",
    "- Journal name\n",
    "- DOI\n",
    "- Study date/period\n",
    "- Study locations\n",
    "- Involvement of Soybean (Yes/No), for sanity check.\n",
    "- Planting dates\n",
    "- Seed maturities\n",
    "- Treatments (e.g., fungicide, insecticide, etc.)\n",
    "- Disease (if any)? It can get quite complicated, I guess. These papers do not report disease data so I would exclude that for now.\n",
    "- Harvest date\n",
    "- Yield\n",
    "- Protein and oil content"
   ]
  },
  {
   "cell_type": "code",
   "execution_count": null,
   "metadata": {},
   "outputs": [],
   "source": []
  }
 ],
 "metadata": {
  "language_info": {
   "name": "python"
  }
 },
 "nbformat": 4,
 "nbformat_minor": 2
}
