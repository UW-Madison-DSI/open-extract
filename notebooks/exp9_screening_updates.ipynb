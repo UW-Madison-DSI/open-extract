{
 "cells": [
  {
   "cell_type": "markdown",
   "metadata": {},
   "source": [
    "Things to updates\n",
    "\n",
    "1. Need to also extract document type for inclusion/exclusion"
   ]
  },
  {
   "cell_type": "code",
   "execution_count": null,
   "metadata": {},
   "outputs": [],
   "source": [
    "import os\n",
    "import time\n",
    "import json\n",
    "from random import sample\n",
    "from pathlib import Path\n",
    "\n",
    "import requests\n",
    "from tqdm import tqdm\n",
    "from dotenv import load_dotenv\n",
    "import pandas as pd\n",
    "\n",
    "\n",
    "from open_extract.llm import OLLAMAExtractor\n",
    "from open_extract.data_model import Screening\n",
    "\n",
    "os.chdir(\"..\")\n",
    "load_dotenv()"
   ]
  },
  {
   "cell_type": "code",
   "execution_count": null,
   "metadata": {},
   "outputs": [],
   "source": [
    "md_files = sorted(Path(\"data/screening_250205/mds\").glob(\"*.md\"))\n",
    "md_files = sample(md_files, 3)\n",
    "md_files"
   ]
  },
  {
   "cell_type": "code",
   "execution_count": null,
   "metadata": {},
   "outputs": [],
   "source": [
    "extractor = OLLAMAExtractor(\n",
    "    model_name=\"deepseek-r1-70b-15k-ctx\",\n",
    "    ollama_host=\"olvi-1:11434\",\n",
    "    target_model=Screening,\n",
    ")\n"
   ]
  },
  {
   "cell_type": "code",
   "execution_count": null,
   "metadata": {},
   "outputs": [],
   "source": [
    "Path(\"runs/screening_update_250225\").mkdir(exist_ok=True, parents=True)"
   ]
  },
  {
   "cell_type": "code",
   "execution_count": null,
   "metadata": {},
   "outputs": [],
   "source": [
    "for file in tqdm(md_files):\n",
    "    save_file_path = (\n",
    "        Path(\"../runs/screening_update_250225\") / file.with_suffix(\".json\").name\n",
    "    )\n",
    "    if not save_file_path.exists():\n",
    "        y = extractor.run(file.read_text())\n",
    "        save_file_path.write_text(y.model_dump_json(indent=4))"
   ]
  },
  {
   "cell_type": "markdown",
   "metadata": {},
   "source": [
    "The results show that the LLM is not a good source of doc type. It just classified the paper as review paper no matter what.\n",
    "I think we can just handle it with external API, i.e., OpenAlex"
   ]
  },
  {
   "cell_type": "code",
   "execution_count": null,
   "metadata": {},
   "outputs": [],
   "source": [
    "def query_doc_type(doi: str) -> str:\n",
    "    \"\"\"Query the OpenAlex API to get the document type of a given DOI.\"\"\"\n",
    "\n",
    "    url = f\"https://api.openalex.org/works/https://doi.org/{doi}\"\n",
    "\n",
    "    # Adding polite email to the request\n",
    "    polite_email = os.getenv(\"API_POLITE_EMAIL\")\n",
    "    url = f\"{url}?mailto={polite_email}\" if polite_email else url\n",
    "    response = requests.get(url)\n",
    "\n",
    "    if response.status_code == 404:\n",
    "        return \"not_found\"\n",
    "\n",
    "    if response.status_code == 429:  # Rate limit exceeded\n",
    "        time.sleep(10)\n",
    "        response = requests.get(url)\n",
    "\n",
    "    try:\n",
    "        return response.json()[\"type\"]\n",
    "    except KeyError:\n",
    "        return \"\"\n"
   ]
  },
  {
   "cell_type": "code",
   "execution_count": null,
   "metadata": {},
   "outputs": [],
   "source": [
    "files = list(Path(\"runs/screening_250205/\").glob(\"*.json\"))"
   ]
  },
  {
   "cell_type": "code",
   "execution_count": null,
   "metadata": {},
   "outputs": [],
   "source": [
    "for x in tqdm(list(files)):\n",
    "    data = json.loads(x.read_text())\n",
    "    if \"publication_doi\" in data and data[\"publication_doi\"]:\n",
    "        data[\"doc_type\"] = query_doc_type(data[\"publication_doi\"])\n",
    "        print(f\"{data[\"publication_doi\"]=}: {data['doc_type']}\")\n",
    "        x.write_text(json.dumps(data, indent=4))\n",
    "        time.sleep(0.2)"
   ]
  },
  {
   "cell_type": "markdown",
   "metadata": {},
   "source": [
    "### Export to Shared GSheet manually"
   ]
  },
  {
   "cell_type": "code",
   "execution_count": null,
   "metadata": {},
   "outputs": [],
   "source": [
    "export_data = []\n",
    "for file in files:\n",
    "    data = json.loads(file.read_text())\n",
    "    export_data.append(\n",
    "        {\n",
    "        \"file_name\": file.stem,\n",
    "        \"publication_doi\": data.get(\"publication_doi\", \"\"),\n",
    "        \"doc_type\": data.get(\"doc_type\", \"\")\n",
    "    }\n",
    "    )"
   ]
  },
  {
   "cell_type": "code",
   "execution_count": null,
   "metadata": {},
   "outputs": [],
   "source": [
    "pd.DataFrame(export_data).to_csv(\"doctypes.csv\", index=False)"
   ]
  }
 ],
 "metadata": {
  "kernelspec": {
   "display_name": ".venv",
   "language": "python",
   "name": "python3"
  },
  "language_info": {
   "codemirror_mode": {
    "name": "ipython",
    "version": 3
   },
   "file_extension": ".py",
   "mimetype": "text/x-python",
   "name": "python",
   "nbconvert_exporter": "python",
   "pygments_lexer": "ipython3",
   "version": "3.12.8"
  }
 },
 "nbformat": 4,
 "nbformat_minor": 2
}
