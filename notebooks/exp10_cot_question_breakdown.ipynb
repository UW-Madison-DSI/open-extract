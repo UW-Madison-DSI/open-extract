{
 "cells": [
  {
   "cell_type": "markdown",
   "metadata": {},
   "source": [
    "You are research planner that want to answer an overarching question of: How do different seed treatments (insecticide and fungicide) impact soybean yield when planted before May 1 compared to after May 1?\n",
    "\n",
    "You are making a research plan to break the question down into a few yes or no questions to make sure a paper has the information for answering to overarching question.\n",
    "\n",
    "For example: \n",
    "\n",
    "Input: What is the effectiveness of foliar fungicide applications in controlling white mold and improving soybean yield in fields where white mold is a primary concern?  \n",
    "\n",
    "Output: \n",
    "a.      Were foliar fungicide treatments evaluated in this study? \n",
    "b.      Was a white mold control treatment evaluated in this study?\n",
    "\n",
    "Input: How do no-till practices influence insect and slug pest pressures and soybean yield in different regions? \n",
    "\n",
    "Output:\n",
    "a. Were tillage practices a treatment in this study? \n",
    "b. Was pest pressure evaluated?  \n",
    "\n",
    "\n"
   ]
  },
  {
   "cell_type": "code",
   "execution_count": null,
   "metadata": {},
   "outputs": [],
   "source": []
  }
 ],
 "metadata": {
  "language_info": {
   "name": "python"
  }
 },
 "nbformat": 4,
 "nbformat_minor": 2
}
