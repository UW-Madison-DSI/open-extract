{
 "cells": [
  {
   "cell_type": "code",
   "execution_count": 1,
   "metadata": {},
   "outputs": [],
   "source": [
    "import os\n",
    "from pathlib import Path\n",
    "\n",
    "os.chdir(\"..\")\n"
   ]
  },
  {
   "cell_type": "code",
   "execution_count": 2,
   "metadata": {},
   "outputs": [],
   "source": [
    "from open_extract.data_io import load_md\n",
    "from open_extract.data_model import ArticleV2\n",
    "from open_extract.llm import Extractor\n",
    "\n",
    "# `Extractor` extracts `Article` from markdown (md) file\n"
   ]
  },
  {
   "cell_type": "code",
   "execution_count": 3,
   "metadata": {},
   "outputs": [],
   "source": [
    "extractor = Extractor(\n",
    "    # model_name=\"custom-vision-model\",\n",
    "    model_name=\"custom-250124\",\n",
    "    ollama_host=\"http://olvi-1:11434\",\n",
    "    target_model=ArticleV2,\n",
    ")"
   ]
  },
  {
   "cell_type": "code",
   "execution_count": 4,
   "metadata": {},
   "outputs": [],
   "source": [
    "output_folder = Path(\"runs/250124_text_based_qualitative\")\n",
    "output_folder.mkdir(exist_ok=True, parents=True)\n",
    "mds = Path(\"data/mds\").glob(\"*.md\")\n"
   ]
  },
  {
   "cell_type": "code",
   "execution_count": 6,
   "metadata": {},
   "outputs": [],
   "source": [
    "\n",
    "for md in mds:\n",
    "    try:\n",
    "        y = extractor.run(load_md(md))\n",
    "        y.save(output_folder / f\"{y.title}.json\")\n",
    "    except Exception as e:\n",
    "        print(f\"Error processing {md}: {e}\")\n",
    "        continue\n"
   ]
  },
  {
   "cell_type": "markdown",
   "metadata": {},
   "source": [
    "summary:\n",
    "\n",
    "- maybe easier to go qualitative route vs. extract exact data point?\n"
   ]
  }
 ],
 "metadata": {
  "kernelspec": {
   "display_name": ".venv",
   "language": "python",
   "name": "python3"
  },
  "language_info": {
   "codemirror_mode": {
    "name": "ipython",
    "version": 3
   },
   "file_extension": ".py",
   "mimetype": "text/x-python",
   "name": "python",
   "nbconvert_exporter": "python",
   "pygments_lexer": "ipython3",
   "version": "3.12.8"
  }
 },
 "nbformat": 4,
 "nbformat_minor": 2
}
