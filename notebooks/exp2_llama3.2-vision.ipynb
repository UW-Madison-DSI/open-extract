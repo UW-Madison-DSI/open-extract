{
 "cells": [
  {
   "cell_type": "code",
   "execution_count": 1,
   "metadata": {},
   "outputs": [],
   "source": [
    "import os\n",
    "from pathlib import Path\n",
    "\n",
    "os.chdir(\"..\")\n"
   ]
  },
  {
   "cell_type": "code",
   "execution_count": null,
   "metadata": {},
   "outputs": [],
   "source": [
    "from open_extract.preprocess import pdf2jpg\n",
    "from open_extract.data_model import Article"
   ]
  },
  {
   "cell_type": "code",
   "execution_count": 8,
   "metadata": {},
   "outputs": [],
   "source": [
    "for x in Path(\"data/pdfs\").glob(\"*.pdf\"):\n",
    "    pdf2jpg(x, Path(\"data/images\") / x.stem)\n"
   ]
  },
  {
   "cell_type": "code",
   "execution_count": null,
   "metadata": {},
   "outputs": [],
   "source": [
    "list(map(str, Path(\"data/images/1\").glob(\"*.jpg\")))"
   ]
  },
  {
   "cell_type": "code",
   "execution_count": null,
   "metadata": {},
   "outputs": [],
   "source": [
    "import ollama\n",
    "from tqdm import tqdm\n",
    "\n",
    "client = ollama.Client(\"http://olvi-1:11434\")\n",
    "\n",
    "for i in tqdm(list(Path(\"data/images\").rglob(\"*.jpg\"))):\n",
    "    try:\n",
    "        messages = [\n",
    "            {\n",
    "                \"role\": \"user\",\n",
    "                \"content\": \"Extract data all the images\",\n",
    "                \"images\": [str(i)],\n",
    "            }\n",
    "        ]\n",
    "\n",
    "        response = client.chat(model=\"custom-vision-model\", messages=messages, format=Article.model_json_schema())\n",
    "        a = Article.model_validate_json(response.message.content)\n",
    "        a.save(i.with_suffix(\".json\"))\n",
    "    except Exception as e:\n",
    "        print(e)\n",
    "        pass\n"
   ]
  },
  {
   "cell_type": "markdown",
   "metadata": {},
   "source": [
    "tl;dr\n",
    "\n",
    "1. llama3.2 vision only works on 1 page, that means we need to adopt agentic workflow and segment the fig and table... \n",
    "2. Somewhat low res image at the current config\n",
    "3. Somewhat compute hungry"
   ]
  }
 ],
 "metadata": {
  "kernelspec": {
   "display_name": ".venv",
   "language": "python",
   "name": "python3"
  },
  "language_info": {
   "codemirror_mode": {
    "name": "ipython",
    "version": 3
   },
   "file_extension": ".py",
   "mimetype": "text/x-python",
   "name": "python",
   "nbconvert_exporter": "python",
   "pygments_lexer": "ipython3",
   "version": "3.12.8"
  }
 },
 "nbformat": 4,
 "nbformat_minor": 2
}
