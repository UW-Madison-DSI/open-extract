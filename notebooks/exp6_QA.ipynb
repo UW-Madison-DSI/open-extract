{
 "cells": [
  {
   "cell_type": "code",
   "execution_count": null,
   "metadata": {},
   "outputs": [],
   "source": [
    "import os\n",
    "from tqdm import tqdm\n",
    "\n",
    "from pathlib import Path\n",
    "from pydantic import BaseModel\n",
    "\n",
    "os.chdir(\"..\")"
   ]
  },
  {
   "cell_type": "code",
   "execution_count": null,
   "metadata": {},
   "outputs": [],
   "source": [
    "from open_extract.llm import OLLAMAExtractor, QUESTIONS\n",
    "from open_extract.data_model import QA, Screening"
   ]
  },
  {
   "cell_type": "code",
   "execution_count": null,
   "metadata": {},
   "outputs": [],
   "source": [
    "# from open_extract.llm import keep_alive\n",
    "# keep_alive(\"deepseek-r1-70b-15k-ctx\", host=\"olvi-1:11434\")"
   ]
  },
  {
   "cell_type": "code",
   "execution_count": null,
   "metadata": {},
   "outputs": [],
   "source": [
    "\n",
    "class ExtractedDoc(BaseModel):\n",
    "    file_name: str\n",
    "    screening: Screening\n",
    "    qas: list[QA]\n",
    "    word_count: int | None = None\n",
    "    over_context_length: bool | None = None\n",
    "\n",
    "\n",
    "def full_extract(md_path: Path, model: str = \"deepseek-r1-70b-15k-ctx\") -> ExtractedDoc:\n",
    "    \"\"\"Extract QAs and screening result.\n",
    "    \n",
    "    Note. Very inefficient, but it is just a prototype. Speed up or parallelize if needed.\n",
    "    \"\"\"\n",
    "\n",
    "    screening_extractor = OLLAMAExtractor(model_name=model, ollama_host=\"olvi-1:11434\", target_model=Screening)\n",
    "    qa_extractor = OLLAMAExtractor(model_name=model,  ollama_host=\"olvi-1:11434\", target_model=QA)\n",
    "\n",
    "    text = md_path.read_text()\n",
    "    screening = screening_extractor.run(content=text)\n",
    "\n",
    "    qas = []\n",
    "    for question in tqdm(QUESTIONS.values()):\n",
    "        prompt = f\"{text} \\n\\n Answer this question based on the above information only: {question}\"\n",
    "        try:\n",
    "            qas.append(qa_extractor.run(prompt))\n",
    "        except Exception as e:\n",
    "            print(f\"Failed to extract {question} from {screening.stem}, {e}\")\n",
    "\n",
    "    return ExtractedDoc(\n",
    "        file_name=md_path.stem,\n",
    "        screening=screening,\n",
    "        qas=qas,\n",
    "        word_count=len(text.split(\" \")),\n",
    "        over_context_length=len(text.split()) > 15000\n",
    "    )\n"
   ]
  },
  {
   "cell_type": "code",
   "execution_count": null,
   "metadata": {},
   "outputs": [],
   "source": [
    "md_files = Path(\"data/prototype_250124/mds\").glob(\"*.md\")\n",
    "run_path = Path(\"runs/qa_250211\")\n",
    "\n",
    "\n",
    "for md_file in tqdm(md_files):\n",
    "    extracted = full_extract(md_file)\n",
    "    run_path.mkdir(exist_ok=True, parents=True)\n",
    "    (run_path / f\"{extracted.file_name}.json\").write_text(extracted.model_dump_json(indent=4))"
   ]
  }
 ],
 "metadata": {
  "kernelspec": {
   "display_name": ".venv",
   "language": "python",
   "name": "python3"
  },
  "language_info": {
   "codemirror_mode": {
    "name": "ipython",
    "version": 3
   },
   "file_extension": ".py",
   "mimetype": "text/x-python",
   "name": "python",
   "nbconvert_exporter": "python",
   "pygments_lexer": "ipython3",
   "version": "3.12.8"
  }
 },
 "nbformat": 4,
 "nbformat_minor": 2
}
