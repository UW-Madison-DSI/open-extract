{
 "cells": [
  {
   "cell_type": "code",
   "execution_count": null,
   "metadata": {},
   "outputs": [],
   "source": [
    "import os\n",
    "from tqdm import tqdm\n",
    "\n",
    "from pathlib import Path\n",
    "\n",
    "os.chdir(\"..\")"
   ]
  },
  {
   "cell_type": "code",
   "execution_count": null,
   "metadata": {},
   "outputs": [],
   "source": [
    "from open_extract.llm import Extractor, QUESTIONS\n",
    "from open_extract.data_model import QA, Screening"
   ]
  },
  {
   "cell_type": "code",
   "execution_count": null,
   "metadata": {},
   "outputs": [],
   "source": [
    "# Get all docs that passed the screening critieria\n",
    "\n",
    "results = sorted(Path(\"runs/screening_250205/\").glob(\"*.json\"))\n",
    "passed = []\n",
    "\n",
    "for result in results:\n",
    "    screened_doc = Screening.model_validate_json(result.read_text())\n",
    "    if screened_doc.study_within_us & screened_doc.is_soybean_study & screened_doc.has_yield_data:\n",
    "        passed.append(result)\n",
    "\n",
    "len(passed), len(results)"
   ]
  },
  {
   "cell_type": "code",
   "execution_count": null,
   "metadata": {},
   "outputs": [],
   "source": [
    "passed[:3]"
   ]
  },
  {
   "cell_type": "code",
   "execution_count": null,
   "metadata": {},
   "outputs": [],
   "source": [
    "from pydantic import BaseModel, Field\n",
    "\n",
    "class ExtractedDoc(BaseModel):\n",
    "    file_name: str\n",
    "    title: str\n",
    "    authors: list[str]\n",
    "    publication_date: str\n",
    "    publication_year: int\n",
    "    publication_name: str\n",
    "    publication_doi: str\n",
    "    study_within_us: bool\n",
    "    study_location: str\n",
    "    is_soybean_study: bool\n",
    "    has_yield_data: bool\n",
    "    qas: list[QA]\n",
    "    word_count: int\n",
    "    over_context_length: bool\n",
    "\n",
    "\n",
    "extractor = Extractor(model_name=\"long-context-deepseek\", ollama_host=\"olvi-1:11434\", target_model=QA)\n",
    "\n",
    "\n",
    "def extract(screening_result_path: Path) -> ExtractedDoc:\n",
    "    \"\"\"Extract QAs from a screening result. (e.g., article.json)\"\"\"\n",
    "\n",
    "    screening = Screening.model_validate_json(screening_result_path.read_text())\n",
    "\n",
    "    md_dir = Path(\"data/screening_250205/mds/\")\n",
    "    md_file = md_dir / f\"{screening_result_path.stem}.md\"\n",
    "    doc_text = md_file.read_text()\n",
    "\n",
    "\n",
    "    qas = []\n",
    "    for question in tqdm(QUESTIONS.values()):\n",
    "        prompt = f\"Answer this question {question}. \\n\\nOnly based on this study information: {doc_text}\"\n",
    "        try:\n",
    "            qas.append(extractor.run(prompt))\n",
    "        except Exception as e:\n",
    "            print(f\"Failed to extract {question} from {screening.stem}, {e}\")\n",
    "\n",
    "    return ExtractedDoc(\n",
    "        file_name=screening_result_path.stem,\n",
    "        title=screening.title,\n",
    "        authors=screening.authors,\n",
    "        publication_date=screening.publication_date,\n",
    "        publication_year=screening.publication_year,\n",
    "        publication_name=screening.publication_name,\n",
    "        publication_doi=screening.publication_doi,\n",
    "        study_within_us=screening.study_within_us,\n",
    "        study_location=screening.study_location,\n",
    "        is_soybean_study=screening.is_soybean_study,\n",
    "        has_yield_data=screening.has_yield_data,\n",
    "        qas=qas,\n",
    "        word_count=len(doc_text.split()),\n",
    "        over_context_length=len(doc_text.split()) > 60000\n",
    "    )\n",
    "\n"
   ]
  },
  {
   "cell_type": "code",
   "execution_count": null,
   "metadata": {},
   "outputs": [],
   "source": [
    "extracted_qa = extract(passed[0])"
   ]
  },
  {
   "cell_type": "code",
   "execution_count": null,
   "metadata": {},
   "outputs": [],
   "source": [
    "Path(\"full.json\").write_text(extracted_qa.model_dump_json(indent=4))"
   ]
  }
 ],
 "metadata": {
  "kernelspec": {
   "display_name": ".venv",
   "language": "python",
   "name": "python3"
  },
  "language_info": {
   "codemirror_mode": {
    "name": "ipython",
    "version": 3
   },
   "file_extension": ".py",
   "mimetype": "text/x-python",
   "name": "python",
   "nbconvert_exporter": "python",
   "pygments_lexer": "ipython3",
   "version": "3.12.8"
  }
 },
 "nbformat": 4,
 "nbformat_minor": 2
}
