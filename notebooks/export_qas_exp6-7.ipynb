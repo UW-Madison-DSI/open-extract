{
 "cells": [
  {
   "cell_type": "code",
   "execution_count": null,
   "metadata": {},
   "outputs": [],
   "source": [
    "import json\n",
    "from pathlib import Path\n",
    "import pandas as pd"
   ]
  },
  {
   "cell_type": "code",
   "execution_count": null,
   "metadata": {},
   "outputs": [],
   "source": [
    "results = Path(\"runs/openai_qa_250211/\").glob(\"*.jsonl\")"
   ]
  },
  {
   "cell_type": "code",
   "execution_count": null,
   "metadata": {},
   "outputs": [],
   "source": [
    "def load_openai(file: Path) -> list[dict[str, str]]:\n",
    "    with open(file, \"r\", encoding=\"utf-8\") as f:\n",
    "        content=f.read()\n",
    "        data = content.split(\"\\n\")\n",
    "        qas = []\n",
    "\n",
    "        for i in range(0, len(data)-1, 8):\n",
    "            case = \"\".join(data[i:i+8])\n",
    "            qas.append(json.loads(case))\n",
    "        return qas\n",
    "    \n",
    "\n",
    "\n",
    "def flatten(data_deepseek: list[dict[str, str]], data_openai: list[dict[str, str]]) -> dict[str, str]:\n",
    "\n",
    "    assert len(data_deepseek) == len(data_openai)\n",
    "    \n",
    "    parsed = []\n",
    "    for data_ds, data_oai in zip(data_deepseek, data_openai):\n",
    "        qa = {}\n",
    "        for k, v in data_ds.items():\n",
    "            qa[f\"ds_{k}\"] = v\n",
    "        for k, v in data_oai.items():\n",
    "            qa[f\"oai_{k}\"] = v\n",
    "        parsed.append(qa)\n",
    "    return parsed\n",
    "\n",
    "\n",
    "\n",
    "\n",
    "dfs = []\n",
    "for i in range(1, 6):\n",
    "    data_openai = load_openai(Path(f\"runs/openai_qa_250211/{i}.jsonl\"))\n",
    "    data_deepseek = json.load(open(f\"runs/qa_250211/{i}.json\", \"r\"))\n",
    "    df = pd.DataFrame(flatten(data_deepseek[\"qas\"], data_openai))\n",
    "    df[\"title\"] = data_deepseek[\"screening\"]['title']\n",
    "    df[\"file_name\"] = data_deepseek['file_name']\n",
    "    dfs.append(df)\n",
    "\n",
    "df = pd.concat(dfs)\n",
    "df.to_csv(\"tmp/export_qa.csv\", index=False)\n"
   ]
  }
 ],
 "metadata": {
  "kernelspec": {
   "display_name": ".venv",
   "language": "python",
   "name": "python3"
  },
  "language_info": {
   "codemirror_mode": {
    "name": "ipython",
    "version": 3
   },
   "file_extension": ".py",
   "mimetype": "text/x-python",
   "name": "python",
   "nbconvert_exporter": "python",
   "pygments_lexer": "ipython3",
   "version": "3.12.8"
  }
 },
 "nbformat": 4,
 "nbformat_minor": 2
}
