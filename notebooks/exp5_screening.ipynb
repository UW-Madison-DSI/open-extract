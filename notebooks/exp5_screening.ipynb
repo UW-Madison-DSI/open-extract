{
 "cells": [
  {
   "cell_type": "code",
   "execution_count": null,
   "metadata": {},
   "outputs": [],
   "source": [
    "import os\n",
    "from tqdm import tqdm\n",
    "\n",
    "from pathlib import Path\n",
    "\n",
    "os.chdir(\"..\")"
   ]
  },
  {
   "cell_type": "code",
   "execution_count": null,
   "metadata": {},
   "outputs": [],
   "source": [
    "from open_extract.llm import Extractor\n",
    "from open_extract.data_model import Screening"
   ]
  },
  {
   "cell_type": "code",
   "execution_count": null,
   "metadata": {},
   "outputs": [],
   "source": [
    "md_files = sorted(Path(\"data/screening_250205/mds\").glob(\"*.md\"))\n",
    "print(f\"{len(md_files)=}\")\n",
    "extractor = Extractor(model_name=\"long-context-deepseek\", ollama_host=\"olvi-1:11434\", target_model=Screening)"
   ]
  },
  {
   "cell_type": "code",
   "execution_count": null,
   "metadata": {},
   "outputs": [],
   "source": [
    "# Check max words\n",
    "\n",
    "max_words = 0\n",
    "\n",
    "for f in md_files:\n",
    "    text = f.read_text()\n",
    "    words = len(text.split())\n",
    "    if words > max_words:\n",
    "        max_words = words\n",
    "\n",
    "print(f\"{max_words=}\")\n",
    "# 64k max... need to do RAG... screening should be ok...\n"
   ]
  },
  {
   "cell_type": "code",
   "execution_count": null,
   "metadata": {},
   "outputs": [],
   "source": [
    "for file in tqdm(md_files):\n",
    "    save_file_path = Path(\"runs/screening_250205\") / file.with_suffix(\".json\").name\n",
    "    if not save_file_path.exists():\n",
    "        y = extractor.run(file.read_text())\n",
    "        save_file_path.write_text(y.model_dump_json(indent=4))"
   ]
  }
 ],
 "metadata": {
  "kernelspec": {
   "display_name": ".venv",
   "language": "python",
   "name": "python3"
  },
  "language_info": {
   "codemirror_mode": {
    "name": "ipython",
    "version": 3
   },
   "file_extension": ".py",
   "mimetype": "text/x-python",
   "name": "python",
   "nbconvert_exporter": "python",
   "pygments_lexer": "ipython3",
   "version": "3.12.8"
  }
 },
 "nbformat": 4,
 "nbformat_minor": 2
}
