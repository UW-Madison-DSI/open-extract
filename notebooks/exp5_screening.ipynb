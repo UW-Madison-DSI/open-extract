{
 "cells": [
  {
   "cell_type": "code",
   "execution_count": 1,
   "metadata": {},
   "outputs": [],
   "source": [
    "import os\n",
    "from tqdm import tqdm\n",
    "\n",
    "from pathlib import Path\n",
    "\n",
    "os.chdir(\"..\")"
   ]
  },
  {
   "cell_type": "code",
   "execution_count": 2,
   "metadata": {},
   "outputs": [],
   "source": [
    "from open_extract.llm import Extractor\n",
    "from open_extract.data_model import Screening"
   ]
  },
  {
   "cell_type": "code",
   "execution_count": 13,
   "metadata": {},
   "outputs": [],
   "source": [
    "md_files = list(Path(\"data/screening_250205/mds\").glob(\"*.md\"))\n",
    "print(f\"{len(md_files)=}\")\n",
    "extractor = Extractor(model_name=\"long-context-deepseek\", ollama_host=\"olvi-1:11434\", target_model=Screening)"
   ]
  },
  {
   "cell_type": "code",
   "execution_count": null,
   "metadata": {},
   "outputs": [],
   "source": [
    "# Check max words\n",
    "\n",
    "max_words = 0\n",
    "for f in md_files:\n",
    "    text = f.read_text()\n",
    "    words = len(text.split())\n",
    "    if words > max_words:\n",
    "        max_words = words\n",
    "\n",
    "print(f\"{max_words=}\")\n",
    "# 64k max... need to do RAG... screening should be ok...\n"
   ]
  },
  {
   "cell_type": "code",
   "execution_count": null,
   "metadata": {},
   "outputs": [],
   "source": [
    "for file in tqdm(md_files):\n",
    "    y = extractor.extract(file.read_text())\n",
    "    file.with_suffix(\".json\").write_text(y.model_dump_json())"
   ]
  }
 ],
 "metadata": {
  "kernelspec": {
   "display_name": ".venv",
   "language": "python",
   "name": "python3"
  },
  "language_info": {
   "codemirror_mode": {
    "name": "ipython",
    "version": 3
   },
   "file_extension": ".py",
   "mimetype": "text/x-python",
   "name": "python",
   "nbconvert_exporter": "python",
   "pygments_lexer": "ipython3",
   "version": "3.12.8"
  }
 },
 "nbformat": 4,
 "nbformat_minor": 2
}
