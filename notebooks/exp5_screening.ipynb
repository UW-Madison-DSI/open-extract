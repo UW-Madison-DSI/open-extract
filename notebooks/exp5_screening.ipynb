{
 "cells": [
  {
   "cell_type": "code",
   "execution_count": null,
   "metadata": {},
   "outputs": [],
   "source": [
    "import os\n",
    "from tqdm import tqdm\n",
    "\n",
    "from pathlib import Path\n",
    "\n",
    "os.chdir(\"..\")"
   ]
  },
  {
   "cell_type": "code",
   "execution_count": null,
   "metadata": {},
   "outputs": [],
   "source": [
    "from open_extract.llm import OLLAMAExtractor\n",
    "from open_extract.data_model import Screening"
   ]
  },
  {
   "cell_type": "code",
   "execution_count": null,
   "metadata": {},
   "outputs": [],
   "source": [
    "md_files = sorted(Path(\"data/screening_250205/mds\").glob(\"*.md\"))\n",
    "print(f\"{len(md_files)=}\")\n",
    "extractor = OLLAMAExtractor(model_name=\"long-context-deepseek\", ollama_host=\"olvi-1:11434\", target_model=Screening)"
   ]
  },
  {
   "cell_type": "code",
   "execution_count": null,
   "metadata": {},
   "outputs": [],
   "source": [
    "# Check max words\n",
    "\n",
    "word_count_dict = {}\n",
    "\n",
    "for f in md_files:\n",
    "    text = f.read_text()\n",
    "    words = len(text.split(\" \"))\n",
    "    word_count_dict[f.name] = words\n",
    "\n",
    "# top 10 in word cound\n",
    "sorted(word_count_dict.items(), key=lambda x: x[1], reverse=True)[:10]"
   ]
  },
  {
   "cell_type": "markdown",
   "metadata": {},
   "source": [
    "- 978-3-030-23400-3.md: Entire book (Subset to which chapter?)\n",
    "- 978-3-030-68483-9.md: Entire book (Subset to which chapter?)\n",
    "- 24-d-past-present-and-future-a-review: Long review paper -> extraction still somewhat ok\n",
    "- agronomy-14-01229: Review paper, extract ok.\n",
    "- agronomy-09-00458: Review paper, extract ok.\n",
    "\n"
   ]
  },
  {
   "cell_type": "code",
   "execution_count": null,
   "metadata": {},
   "outputs": [],
   "source": [
    "sorted(word_count_dict.items(), key=lambda x: x[1], reverse=False)[:10]\n"
   ]
  },
  {
   "cell_type": "markdown",
   "metadata": {},
   "source": [
    "- Segalin_Impact Chemical Seed Treatment_abstract.md: abstract only\n",
    "- Kandel_Influence Planting Date_abstract.md: abstract only\n",
    "- 361.md: single page.\n",
    "- 350.md: single page.\n",
    "- php-10-21-0130-br: short report, should be ok\n",
    "- es7b06015_si_001: supplementary material only\n",
    "- 1-s2.0-S2352340920302705-main: short report, study contains a mix of cover crop, soybean is one of it, but extraction seems to missed it"
   ]
  },
  {
   "cell_type": "code",
   "execution_count": null,
   "metadata": {},
   "outputs": [],
   "source": [
    "# words distribution\n",
    "\n",
    "import matplotlib.pyplot as plt\n",
    "word_counts = list(word_count_dict.values())\n",
    "plt.hist(word_counts, bins=100)\n",
    "plt.title(\"Word count distribution of all PDFs\")\n",
    "\n"
   ]
  },
  {
   "cell_type": "code",
   "execution_count": null,
   "metadata": {},
   "outputs": [],
   "source": [
    "plt.hist([w for w in word_counts if w < 25000], bins=50)\n",
    "plt.title(\"Word count distribution of all PDFs (zoomed-in)\")\n"
   ]
  },
  {
   "cell_type": "code",
   "execution_count": null,
   "metadata": {},
   "outputs": [],
   "source": [
    "for file in tqdm(md_files):\n",
    "    save_file_path = Path(\"runs/screening_250205\") / file.with_suffix(\".json\").name\n",
    "    if not save_file_path.exists():\n",
    "        y = extractor.run(file.read_text())\n",
    "        save_file_path.write_text(y.model_dump_json(indent=4))"
   ]
  },
  {
   "cell_type": "code",
   "execution_count": null,
   "metadata": {},
   "outputs": [],
   "source": [
    "extracted = []\n",
    "\n",
    "for file in Path(\"runs/screening_250205/\").glob(\"*.json\"):\n",
    "    data = Screening.model_validate_json(file.read_text()).model_dump()\n",
    "    data[\"file_name\"] = file.name\n",
    "    data[\"word_count\"] = word_count_dict[file.with_suffix(\".md\").name]\n",
    "    extracted.append(data)\n",
    "    "
   ]
  },
  {
   "cell_type": "code",
   "execution_count": null,
   "metadata": {},
   "outputs": [],
   "source": [
    "import pandas as pd\n",
    "df = pd.DataFrame(extracted)\n",
    "df"
   ]
  },
  {
   "cell_type": "code",
   "execution_count": null,
   "metadata": {},
   "outputs": [],
   "source": [
    "df.to_csv(\"runs/screening_250205.csv\", index=False)"
   ]
  },
  {
   "cell_type": "markdown",
   "metadata": {},
   "source": [
    "### Some reporting"
   ]
  },
  {
   "cell_type": "code",
   "execution_count": null,
   "metadata": {},
   "outputs": [],
   "source": [
    "df.groupby([\"study_within_us\", \"is_soybean_study\", \"has_yield_data\"]).size().to_frame(\"count\").reset_index()\n",
    "\n",
    "# add percentage\n",
    "\n",
    "df.groupby([\"study_within_us\", \"is_soybean_study\", \"has_yield_data\"]).size().to_frame(\"count\").reset_index().assign(\n",
    "    percentage=lambda x: round(x[\"count\"] / x[\"count\"].sum(),3)\n",
    ")"
   ]
  },
  {
   "cell_type": "markdown",
   "metadata": {},
   "source": [
    "### Spot checking"
   ]
  },
  {
   "cell_type": "code",
   "execution_count": null,
   "metadata": {},
   "outputs": [],
   "source": [
    "\n",
    "check1 = df[df[\"study_within_us\"]].sample(5).file_name.to_list() + df[~df[\"study_within_us\"]].sample(5).file_name.to_list()\n",
    "sorted(check1)"
   ]
  },
  {
   "cell_type": "code",
   "execution_count": null,
   "metadata": {},
   "outputs": [],
   "source": [
    "\n",
    "check1 = df[df[\"is_soybean_study\"]].sample(5).file_name.to_list() + df[~df[\"is_soybean_study\"]].sample(5).file_name.to_list()\n",
    "sorted(check1)"
   ]
  },
  {
   "cell_type": "code",
   "execution_count": null,
   "metadata": {},
   "outputs": [],
   "source": [
    "\n",
    "check1 = df[df[\"has_yield_data\"]].sample(5).file_name.to_list() + df[~df[\"has_yield_data\"]].sample(5).file_name.to_list()\n",
    "sorted(check1)"
   ]
  },
  {
   "cell_type": "markdown",
   "metadata": {},
   "source": [
    "See [results](https://docs.google.com/spreadsheets/d/1SLbSbVGXBOXYUswalsgbJjHHfIii1kEQcxUh_gOGOwo/edit?gid=0#gid=0)\n",
    "\n",
    "tl;dr; 90-100% agreement"
   ]
  }
 ],
 "metadata": {
  "kernelspec": {
   "display_name": ".venv",
   "language": "python",
   "name": "python3"
  },
  "language_info": {
   "codemirror_mode": {
    "name": "ipython",
    "version": 3
   },
   "file_extension": ".py",
   "mimetype": "text/x-python",
   "name": "python",
   "nbconvert_exporter": "python",
   "pygments_lexer": "ipython3",
   "version": "3.12.8"
  }
 },
 "nbformat": 4,
 "nbformat_minor": 2
}
