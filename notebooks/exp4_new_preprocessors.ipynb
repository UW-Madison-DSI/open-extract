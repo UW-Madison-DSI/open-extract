{
 "cells": [
  {
   "cell_type": "markdown",
   "metadata": {},
   "source": [
    "# Testing multiple new PDF parsers on the market\n",
    "\n",
    "1. [marker](https://github.com/VikParuchuri/marker): seems very bulky, not a good sign. Trash dependency, give up.\n",
    "1. [pymupdf4llm](https://github.com/pymupdf/RAG/tree/main/pymupdf4llm): Used in `progov` and [`ai scienctist`](https://github.com/SakanaAI/AI-Scientist/blob/main/ai_scientist/perform_review.py#L267). My old go to package.\n",
    "1. [openparse](https://github.com/Filimoa/open-parse): Somewhat promising? But complicated process... explore more later when needed multimodal input.\n",
    "1. [markitdown](https://github.com/microsoft/markitdown): Microsoft product. But somewhat poorer than pymupdf4llm imo.\n",
    "1. [llama parse](https://docs.llamaindex.ai/en/stable/llama_cloud/llama_parse/): Good, slow, proprietary.\n",
    "1. [llmsherpa](https://github.com/nlmatics/llmsherpa): To be tested...\n",
    "\n",
    "tl;dr; Just use pymupdf4llm for now, explore openparse more if needed more complicated layout."
   ]
  },
  {
   "cell_type": "code",
   "execution_count": 1,
   "metadata": {},
   "outputs": [],
   "source": [
    "import os\n",
    "from pathlib import Path\n",
    "\n",
    "os.chdir(\"..\")"
   ]
  },
  {
   "cell_type": "code",
   "execution_count": null,
   "metadata": {},
   "outputs": [],
   "source": [
    "from open_extract.preprocess import pdf2md_llamaparese, pdf2md_pymupdf4llm, pdf2txt, pdf2md_markitdown\n"
   ]
  },
  {
   "cell_type": "code",
   "execution_count": null,
   "metadata": {},
   "outputs": [],
   "source": [
    "pdf2md_llamaparese(Path(\"data/pdfs/prototype_250124/1.pdf\"), Path(\"llama_1.md\"))\n",
    "\n",
    "# Probably the best one, but very slow and proprietary"
   ]
  },
  {
   "cell_type": "code",
   "execution_count": null,
   "metadata": {},
   "outputs": [],
   "source": [
    "pdf2md_pymupdf4llm(Path(\"data/pdfs/prototype_250124/1.pdf\"), Path(\"pymupdf_1.md\"))\n",
    "\n",
    "# Decent, fast, open source, but not as good as the proprietary one"
   ]
  },
  {
   "cell_type": "code",
   "execution_count": null,
   "metadata": {},
   "outputs": [],
   "source": [
    "pdf2txt(Path(\"data/pdfs/prototype_250124/1.pdf\"), Path(\"open_parse_1.txt\"))\n",
    "\n",
    "# Not exact design for md, but rather a nodes based multimodal embedding. The layout parser seems promising? Explore a bit more later if table is needed."
   ]
  },
  {
   "cell_type": "code",
   "execution_count": null,
   "metadata": {},
   "outputs": [],
   "source": [
    "pdf2md_markitdown(Path(\"data/pdfs/prototype_250124/1.pdf\"), Path(\"markitdown_1.txt\"))\n",
    "\n",
    "# Some what worse than pymupdf4llm"
   ]
  },
  {
   "cell_type": "markdown",
   "metadata": {},
   "source": [
    "### Process all `screening_250205` PDFs"
   ]
  },
  {
   "cell_type": "code",
   "execution_count": 3,
   "metadata": {},
   "outputs": [],
   "source": [
    "pdf_files = Path(\"data/pdfs/screening_250205/\").glob(\"*.pdf\")\n"
   ]
  },
  {
   "cell_type": "code",
   "execution_count": null,
   "metadata": {},
   "outputs": [],
   "source": [
    "from tqdm import tqdm\n",
    "from open_extract.preprocess import pdf2md\n",
    "for pdf_file in tqdm(pdf_files):\n",
    "    pdf2md(pdf_file, pdf_file.with_suffix(\".md\"))"
   ]
  }
 ],
 "metadata": {
  "kernelspec": {
   "display_name": ".venv",
   "language": "python",
   "name": "python3"
  },
  "language_info": {
   "codemirror_mode": {
    "name": "ipython",
    "version": 3
   },
   "file_extension": ".py",
   "mimetype": "text/x-python",
   "name": "python",
   "nbconvert_exporter": "python",
   "pygments_lexer": "ipython3",
   "version": "3.12.8"
  }
 },
 "nbformat": 4,
 "nbformat_minor": 2
}
