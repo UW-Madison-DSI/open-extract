{
 "cells": [
  {
   "cell_type": "code",
   "execution_count": 1,
   "metadata": {},
   "outputs": [],
   "source": [
    "import os\n",
    "from pathlib import Path\n",
    "\n",
    "os.chdir(\"..\")\n"
   ]
  },
  {
   "cell_type": "code",
   "execution_count": 2,
   "metadata": {},
   "outputs": [],
   "source": [
    "from open_extract.data_io import load_md\n",
    "from open_extract.data_model import Article\n",
    "from open_extract.llm import Extractor\n",
    "\n",
    "# `Extractor` extracts `Article` from markdown (md) file\n"
   ]
  },
  {
   "cell_type": "code",
   "execution_count": 3,
   "metadata": {},
   "outputs": [],
   "source": [
    "extractor = Extractor(\n",
    "    model_name=\"custom-vision-model\",\n",
    "    ollama_host=\"http://olvi-1:11434\",\n",
    "    target_model=Article,\n",
    ")"
   ]
  },
  {
   "cell_type": "code",
   "execution_count": 6,
   "metadata": {},
   "outputs": [
    {
     "name": "stdout",
     "output_type": "stream",
     "text": [
      "Error processing data/mds/5.md: an error was encountered while running the model: GGML_ASSERT(view_src == NULL || data_size == 0 || data_size + view_offs <= ggml_nbytes(view_src)) failed (status code: 500)\n"
     ]
    }
   ],
   "source": [
    "output_folder = Path(\"runs/250122_llama3.2-vision\")\n",
    "output_folder.mkdir(exist_ok=True, parents=True)\n",
    "mds = Path(\"data/mds\").glob(\"*.md\")\n",
    "\n",
    "for md in mds:\n",
    "    try:\n",
    "        y = extractor.run(load_md(md))\n",
    "        y.save(output_folder / f\"{y.title}.json\")\n",
    "    except Exception as e:\n",
    "        print(f\"Error processing {md}: {e}\")\n",
    "        continue\n"
   ]
  },
  {
   "cell_type": "markdown",
   "metadata": {},
   "source": [
    "summary:\n",
    "\n",
    "- md conversion seems to fail at complex table\n",
    "- still not good to extract all data points\n",
    "- considering downstream usage, effect size seems to be a must... but very difficult to make it works in every paper. Probably need to use agentic workflow to make it works.\n",
    "\n",
    "- (maybe) try llama 3.2 vision to side step the need to convert to md.\n"
   ]
  }
 ],
 "metadata": {
  "kernelspec": {
   "display_name": ".venv",
   "language": "python",
   "name": "python3"
  },
  "language_info": {
   "codemirror_mode": {
    "name": "ipython",
    "version": 3
   },
   "file_extension": ".py",
   "mimetype": "text/x-python",
   "name": "python",
   "nbconvert_exporter": "python",
   "pygments_lexer": "ipython3",
   "version": "3.12.8"
  }
 },
 "nbformat": 4,
 "nbformat_minor": 2
}
